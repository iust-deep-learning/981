{
 "cells": [
  {
   "cell_type": "markdown",
   "metadata": {
    "colab_type": "text",
    "id": "YS8LoLU0OQha"
   },
   "source": [
    "# Tensorflow 2.0 Tutorial: Part #1\n",
    "\n",
    "\n",
    "Deep Learning Group, Iran University of Science and Technology,\n",
    "\n",
    "*   Last Update: Dec 2019"
   ]
  },
  {
   "cell_type": "markdown",
   "metadata": {
    "colab_type": "text",
    "id": "gSj39l8gcIA8"
   },
   "source": [
    "Please run the following cell before going through the rest of the tutorial."
   ]
  },
  {
   "cell_type": "code",
   "execution_count": 0,
   "metadata": {
    "cellView": "both",
    "colab": {
     "base_uri": "https://localhost:8080/",
     "height": 34
    },
    "colab_type": "code",
    "id": "RFC1dEyMcFq2",
    "outputId": "71d2b8c0-bcc8-41d6-8f51-66c043d03b75"
   },
   "outputs": [
    {
     "name": "stdout",
     "output_type": "stream",
     "text": [
      "TensorFlow 2.x selected.\n"
     ]
    }
   ],
   "source": [
    "from __future__ import absolute_import, division, print_function, unicode_literals\n",
    "\n",
    "# Install TensorFlow\n",
    "try:\n",
    "  # %tensorflow_version only exists in Colab.\n",
    "  %tensorflow_version 2.x\n",
    "except Exception:\n",
    "  pass\n",
    "\n",
    "import tensorflow as tf\n",
    "import numpy as np\n",
    "\n",
    "from pprint import pprint"
   ]
  },
  {
   "cell_type": "markdown",
   "metadata": {
    "colab_type": "text",
    "id": "NVLck2lUOobQ"
   },
   "source": [
    "## 1. Computation Graph\n",
    "\n",
    "---\n",
    "\n"
   ]
  },
  {
   "cell_type": "markdown",
   "metadata": {
    "colab_type": "text",
    "id": "xvYRirIwugqz"
   },
   "source": [
    "### What is Computational Graph\n",
    "The backbone of every TensorFlow program is what we call a **computational graph**. A computational graph is a way of thinking about mathematical expressions. Lets say we have the following expression:\n",
    "</br>\n",
    "$$\n",
    "h = (a + b)* (c + d)\n",
    "$$\n",
    "\n",
    "There are three operations in this expression, two additions and one multiplication. We can show this expression using the following graph:\n",
    "</br>\n",
    "</br>\n",
    "<p align=\"center\">\n",
    "<img src=\"https://raw.githubusercontent.com/iust-deep-learning/981/master/tensorflow-2-tutorial/resources/part_01_comp_graph.png\" width=\"200\" />\n",
    "<p align=\"left\">\n",
    "As you can see, every node in graph represents an operation or an input and every edge, which in TensorFlow we call a tensor, represents the data flow between these nodes (so in case you wonder where the name TensorFlow comes from, this is your answer). Almost every mathematical expression can be shown like this and it is not limited to neural networks. In a TensorFlow prgoram, we are simply creating a computational graph, hence we can benefit using TensorFlow in computing any kind of mathematical expression.\n",
    "</br>\n",
    "<p align=\"left\">\n",
    "But what are the advantages of a computational graph and why do we bother expressing our problem in this form in the first place?\n",
    "</br>\n",
    "The reason lies in the fact that some of our operations have nothing to do with each other and are completely independent. For example, in this case, two additions are independent. Using this graph form allows us to find these independent operations and compute their results in parallel. \n",
    "</br>\n",
    "Besides, recall the fact that nural networks use **back propagation** to optimize the loss function and this algorithm uses **chain rule** to compute the drivatives of loss function with respect to hidden variables. Therefore, TensorFlow benefits from this graph form which makes implementation of back propagation much easier.\n",
    "<p align=\"left\">\n"
   ]
  },
  {
   "cell_type": "markdown",
   "metadata": {
    "colab_type": "text",
    "id": "ctpex30furGu"
   },
   "source": [
    "### TensorFlow behind the scenes\n",
    "\n",
    "<!-- $\\color{red}{\\text{Note:}}$ Some of these concepts, such as **session**, are deprecated and replaced in the high level python API of TensorFlow2.0, but for the sake of understanding what happens behind the scenes in TensorFlow, introducing these concepts can be helpfull.  -->\n",
    "\n",
    "There are several layers of abstraction from hardware to the high level API of TensorFlow which we are going to use. In order to have a better sense about what happens in the background, we briefly review these layers of abstraction here.\n",
    "\n",
    "\n",
    "**1.   High Level API - Making Graph**\n",
    "\n",
    "Now, consider a simple logistic regression problem. In order to represent the problem in graph form, user creates the following graph using high level API:\n",
    "\n",
    "</br>\n",
    "</br>\n",
    "<p align=\"center\">\n",
    "<img src=\"https://raw.githubusercontent.com/iust-deep-learning/981/master/tensorflow-2-tutorial/resources/part_01_logireg_compgraph.png\" width=\"400\" />\n",
    "</br>\n",
    "<p align=\"left\">\n",
    "As we discussed, nodes in this graph are either a variable, constant, an input or an operation. We discuss each of these node types later in detail, but for now, variables are parameters which can be altered by the operations to which they are passed, in fact they represent the state of our problem, and inputs are just our inputs!\n",
    "<p align=\"left\">\n",
    "When we call for one of these nodes outputs, TensorFlow calculates all the requiered inputs recursively. Therefore, all the other operations which this particular operation depends on, are called first by TensorFlow.\n",
    "<p align=\"left\"> \n",
    "The question is, what happens when we pass the loss node to an optimizer and call it?\n",
    "</br>  \n",
    "First of all, when we add an operation using the high level API, another operation is automatically added to the graph in the background, which is responsible for calculating the output gradient of that operation with respect to its inputs.  \n",
    "<br>\n",
    "Secondly, each Optimizer in TensorFlow is just an operation that takes as input all the gradient operations of other nodes and variables and changes each variable using chain rule. So, optimizers are nothing but another operations.\n",
    "<br/>\n",
    "<br/>\n",
    "\n",
    "**2.Distributed Master**\n",
    "\n",
    "After the graph is created by the user, it is serialized by TensorFlow and passed to the an agent called **distributed master**. After that, the client asks distributed master for the evaluation of requested nodes using a C API.  The main task of the distributed master is to prune the graph to obtain the subgraph required to evaluate the nodes requested by the client. For example, if we ask for the output of ADD node, it is the responsibility of the distributed master to recongnize that just the output of MUL operation is needed and prune other unnecessary nodes. Besides that, distibuted master finds graph pieces which are independent and can be evaluated in parallel.\n",
    "<br/>\n",
    "<br/>\n",
    "\n",
    "**3.Worker Service**\n",
    "\n",
    "After obtaining sub-graphs, the distributed master then ships the graph pieces to the distributed tasks. The worker service in each task:\n",
    "\n",
    "* handles requests from the master,\n",
    "* schedules the execution of the kernels for the operations that comprise a local subgraph, and\n",
    "* mediates direct communication between tasks.\n",
    "<br/>\n",
    "<br/>\n",
    "\n",
    "**4.Kernel Implementations**\n",
    "\n",
    "The runtime contains over 200 standard operations including mathematical, array manipulation, control flow, and state management operations. Each of these operations can have kernel implementations optimized for a variety of devices. Many of the operation kernels are implemented using C++ to generate efficient parallel code for multicore CPUs, and libraries like cuDNN for GPUs.\n"
   ]
  },
  {
   "cell_type": "markdown",
   "metadata": {
    "colab_type": "text",
    "id": "eGHQmDwsZhWh"
   },
   "source": [
    "## 2. Tensors, Variables, and OPS\n",
    "\n",
    "---\n",
    "\n"
   ]
  },
  {
   "cell_type": "markdown",
   "metadata": {
    "colab_type": "text",
    "id": "2IsaWZ4KZhWk"
   },
   "source": [
    "### Tensors\n",
    "Tensors are the main element that you will use to define your desired computations. Generally speaking, Tensors are n-dimensional arrays with a specified data type. That is, each component of the Tensors has the same data type (e.g., int32 or float32), and such a data type is always known across the computation. Various methods can create tensors, two of which–that is–**constants and variables** are the most common ones."
   ]
  },
  {
   "cell_type": "markdown",
   "metadata": {
    "colab_type": "text",
    "id": "E2yc4AMXCC3f"
   },
   "source": [
    "**Constants**\n",
    "\n",
    "Use methods such as `tf.ones(...)`, `tf.zeros(...)`, `tf.eye(...)`, and etc..\n",
    "\n",
    "\n"
   ]
  },
  {
   "cell_type": "code",
   "execution_count": 0,
   "metadata": {
    "colab": {
     "base_uri": "https://localhost:8080/",
     "height": 68
    },
    "colab_type": "code",
    "id": "F2NS5woVCJdi",
    "outputId": "b8d92234-5671-4d7c-84ea-779ea3009bc6"
   },
   "outputs": [
    {
     "data": {
      "text/plain": [
       "<tf.Tensor: shape=(2, 3), dtype=int32, numpy=\n",
       "array([[1, 1, 1],\n",
       "       [1, 1, 1]], dtype=int32)>"
      ]
     },
     "execution_count": 6,
     "metadata": {
      "tags": []
     },
     "output_type": "execute_result"
    }
   ],
   "source": [
    "a = tf.ones(shape=(2,3), dtype=tf.int32)\n",
    "a"
   ]
  },
  {
   "cell_type": "markdown",
   "metadata": {
    "colab_type": "text",
    "id": "qZCUdl_pDm6o"
   },
   "source": [
    "Or define them by manually passing Python/numpy data types ([More info](https://www.tensorflow.org/api_docs/python/tf/constant))\n",
    "\n"
   ]
  },
  {
   "cell_type": "code",
   "execution_count": 0,
   "metadata": {
    "colab": {
     "base_uri": "https://localhost:8080/",
     "height": 170
    },
    "colab_type": "code",
    "id": "qUYZVnZcEA9O",
    "outputId": "9eb409ec-30e8-4fde-dc31-542774c1b9f9"
   },
   "outputs": [
    {
     "name": "stdout",
     "output_type": "stream",
     "text": [
      "b = tf.Tensor(\n",
      "[[1 2 3]\n",
      " [4 5 6]], shape=(2, 3), dtype=int32)\n",
      "\n",
      "c = tf.Tensor([b'hello' b'world'], shape=(2,), dtype=string)\n",
      "\n",
      "d = tf.Tensor(\n",
      "[[10. 10. 10. 10. 10.]\n",
      " [10. 10. 10. 10. 10.]], shape=(2, 5), dtype=float32)\n"
     ]
    }
   ],
   "source": [
    "b = tf.constant([[1, 2, 3], [4, 5, 6]])\n",
    "print(\"b =\",b);\n",
    "\n",
    "npvar = np.array([\"hello\", \"world\"])\n",
    "c = tf.constant(npvar)\n",
    "print(\"\\nc =\", c)\n",
    "\n",
    "d = tf.constant(10.0, shape=[2,5])\n",
    "print(\"\\nd =\", d)"
   ]
  },
  {
   "cell_type": "markdown",
   "metadata": {
    "colab_type": "text",
    "id": "v9xm-JZeGU2M"
   },
   "source": [
    "You can also use random initializers ([More info](https://www.tensorflow.org/api_docs/python/tf/random)). You may re-run the cell to generate another set of random values."
   ]
  },
  {
   "cell_type": "code",
   "execution_count": 0,
   "metadata": {
    "colab": {
     "base_uri": "https://localhost:8080/",
     "height": 136
    },
    "colab_type": "code",
    "id": "iTpw8Xn1KuTx",
    "outputId": "2211d576-20bd-4a50-ad72-24c3dac89539"
   },
   "outputs": [
    {
     "name": "stdout",
     "output_type": "stream",
     "text": [
      "e = tf.Tensor(\n",
      "[[ 0.61113954 -0.258195    1.2110202 ]\n",
      " [-0.39822677 -2.3552241  -3.0503285 ]], shape=(2, 3), dtype=float32)\n",
      "\n",
      "f = tf.Tensor(\n",
      "[[3 3 0]\n",
      " [3 4 7]], shape=(2, 3), dtype=int32)\n"
     ]
    }
   ],
   "source": [
    "e = tf.random.normal(shape=[2, 3], mean=0.0, stddev=1.0)\n",
    "print(\"e =\", e)\n",
    "\n",
    "f = tf.random.uniform( shape=[2,3], minval=0,maxval=10,dtype=tf.int32)\n",
    "print(\"\\nf =\", f)"
   ]
  },
  {
   "cell_type": "markdown",
   "metadata": {
    "colab_type": "text",
    "id": "OZrV5FsiMkE-"
   },
   "source": [
    "**Variables**\n",
    "\n",
    "Variables hold a persistant shared state across your computation. The most common use case of Variables is the model's trainable parameters.\n",
    "\n",
    "The only way to create variables is to use `tf.Variable(<required-initial-value>, name=<optional-name>)` class. Tensorflow uses the `initial-value` to infer the shape and the type of the variable. Please note that shape and the type of variable, once specified, cannot be changed during the computation.  Tensorflow cleans up variables when the runtime changes its scope and the variable is not referenced anymore. Therefore, it is your responsibility to keep track of variables in your Tensorflow program (Good news: Tensorflow's high-level APIs handles that automatically)"
   ]
  },
  {
   "cell_type": "code",
   "execution_count": 0,
   "metadata": {
    "colab": {
     "base_uri": "https://localhost:8080/",
     "height": 153
    },
    "colab_type": "code",
    "id": "stnuFXfBSM8q",
    "outputId": "cd0689bc-a5a7-4288-96af-8f3b861c7abb"
   },
   "outputs": [
    {
     "name": "stdout",
     "output_type": "stream",
     "text": [
      "w = <tf.Variable 'my_var01:0' shape=() dtype=float32, numpy=20.0>\n",
      "\n",
      "x = <tf.Variable 'my_var02:0' shape=(2, 5) dtype=float32, numpy=\n",
      "array([[-0.45070884,  0.56897163,  0.29169297, -0.77587044, -0.4456739 ],\n",
      "       [ 0.1657275 , -0.9256539 , -0.86812764,  0.05088377,  0.19746172]],\n",
      "      dtype=float32)>\n",
      "\n",
      "y = <tf.Variable 'my_var03:0' shape=(5,) dtype=float32, numpy=array([0., 0., 0., 0., 0.], dtype=float32)>\n"
     ]
    }
   ],
   "source": [
    "w = tf.Variable(20., name=\"my_var01\")\n",
    "print('w =', w)\n",
    "\n",
    "initializer = tf.initializers.GlorotUniform()\n",
    "x = tf.Variable(initializer(shape=(2, 5)), name=\"my_var02\")\n",
    "print('\\nx =', x)\n",
    "\n",
    "y = tf.Variable(tf.zeros([5]), name='my_var03')\n",
    "print('\\ny =', y)"
   ]
  },
  {
   "cell_type": "markdown",
   "metadata": {
    "colab_type": "text",
    "id": "9gOVcgI_bxCy"
   },
   "source": [
    "Variables' APIs are mostly similar to Tensors. Hence, we can treat them like a standard Tensor."
   ]
  },
  {
   "cell_type": "code",
   "execution_count": 0,
   "metadata": {
    "colab": {
     "base_uri": "https://localhost:8080/",
     "height": 68
    },
    "colab_type": "code",
    "id": "TxYFPFB0cvTt",
    "outputId": "a4c99c7a-c872-47f9-df1e-1e2b2b8673f0"
   },
   "outputs": [
    {
     "name": "stdout",
     "output_type": "stream",
     "text": [
      "v = tf.Tensor(21.0, shape=(), dtype=float32)\n",
      "v's type = <class 'tensorflow.python.framework.ops.EagerTensor'>\n",
      "w's type = <class 'tensorflow.python.ops.resource_variable_ops.ResourceVariable'>\n"
     ]
    }
   ],
   "source": [
    "v = w + 1.  # v is a tf.Tensor and is calculated as the result of\n",
    "            # a mathematical expression that is based on a variable(w).\n",
    "            # tf.Variable gets automatically converted to a tf.Tensor \n",
    "            # representing its value when it is envolved in a expression.\n",
    "\n",
    "print(\"v =\", v)\n",
    "print(f\"v's type = {type(v)}\")\n",
    "print(f\"w's type = {type(w)}\")"
   ]
  },
  {
   "cell_type": "markdown",
   "metadata": {
    "colab_type": "text",
    "id": "SvWuU3cne2ch"
   },
   "source": [
    "To change the variable's current value, you can use methods such as `assign` and `assign_add`. ([More info](https://www.tensorflow.org/api_docs/python/tf/Variable))"
   ]
  },
  {
   "cell_type": "code",
   "execution_count": 0,
   "metadata": {
    "colab": {
     "base_uri": "https://localhost:8080/",
     "height": 34
    },
    "colab_type": "code",
    "id": "WOKSX8wPfVz-",
    "outputId": "892d534b-d8c2-4d17-bc26-ea860bb94609"
   },
   "outputs": [
    {
     "name": "stdout",
     "output_type": "stream",
     "text": [
      "w = <tf.Variable 'my_var01:0' shape=() dtype=float32, numpy=42.0>\n"
     ]
    }
   ],
   "source": [
    "w.assign(v)\n",
    "w.assign_add(v)\n",
    "print('w =', w)"
   ]
  },
  {
   "cell_type": "markdown",
   "metadata": {
    "colab_type": "text",
    "id": "xh8brxauZhW9"
   },
   "source": [
    "### Rank, Shape, and Type Conversion"
   ]
  },
  {
   "cell_type": "code",
   "execution_count": 0,
   "metadata": {
    "colab": {
     "base_uri": "https://localhost:8080/",
     "height": 357
    },
    "colab_type": "code",
    "id": "WsZONY5NZhW-",
    "outputId": "487399b0-9342-4273-aef8-25635b05c4e4"
   },
   "outputs": [
    {
     "name": "stdout",
     "output_type": "stream",
     "text": [
      "a = \n",
      "[[1 1 1]\n",
      " [1 1 1]]\n",
      "a.dtype = <dtype: 'int32'>\n",
      "a.shape = (2, 3)\n",
      "a.rank = 2\n",
      "\n",
      "a.shape = tf.Tensor([2 3], shape=(2,), dtype=int32)\n",
      "a.rank = tf.Tensor(2, shape=(), dtype=int32)\n",
      "\n",
      "e (before type conversion) = tf.Tensor(\n",
      "[[ 0.61113954 -0.258195    1.2110202 ]\n",
      " [-0.39822677 -2.3552241  -3.0503285 ]], shape=(2, 3), dtype=float32)\n",
      "e (after type conversion) = tf.Tensor(\n",
      "[[ 0  0  1]\n",
      " [ 0 -2 -3]], shape=(2, 3), dtype=int32)\n",
      "\n",
      "type(e_np) = <class 'numpy.ndarray'>\n"
     ]
    },
    {
     "data": {
      "text/plain": [
       "array([[ 0,  0,  1],\n",
       "       [ 0, -2, -3]], dtype=int32)"
      ]
     },
     "execution_count": 71,
     "metadata": {
      "tags": []
     },
     "output_type": "execute_result"
    }
   ],
   "source": [
    "print(f\"a = \\n{a}\")\n",
    "print(\"a.dtype =\", a.dtype)\n",
    "print(\"a.shape =\", a.shape)\n",
    "print(\"a.rank =\", len(a.shape))\n",
    "# or...\n",
    "print(\"\\na.shape =\", tf.shape(a))\n",
    "print(\"a.rank =\", tf.rank(a)) \n",
    "# What is the difference?\n",
    "\n",
    "print(\"\\ne (before type conversion) =\", e)\n",
    "e_int = tf.cast(e, tf.int32)\n",
    "print(\"e (after type conversion) =\", e_int)\n",
    "\n",
    "# Convert a tf.Tensor object to an np.array instance\n",
    "e_np = e_int.numpy()\n",
    "print(f\"\\ntype(e_np) = {type(e_np)}\")\n",
    "e_np"
   ]
  },
  {
   "cell_type": "markdown",
   "metadata": {
    "colab_type": "text",
    "id": "hhsqXGEbZhXA"
   },
   "source": [
    "### Tensor manipulation "
   ]
  },
  {
   "cell_type": "markdown",
   "metadata": {
    "colab_type": "text",
    "id": "lgr3tYFmZhXB"
   },
   "source": [
    "**Element-Wise Operations**"
   ]
  },
  {
   "cell_type": "code",
   "execution_count": 0,
   "metadata": {
    "colab": {
     "base_uri": "https://localhost:8080/",
     "height": 289
    },
    "colab_type": "code",
    "id": "N9JveG2eZhXC",
    "outputId": "e511ff74-8b81-4e26-b465-b163dd1ad153"
   },
   "outputs": [
    {
     "name": "stdout",
     "output_type": "stream",
     "text": [
      "t1 + t2 = tf.Tensor(\n",
      "[[ 1  2  3]\n",
      " [ 4  6  7]\n",
      " [ 7  9 10]], shape=(3, 3), dtype=int32)\n",
      "t2 - t1 = tf.Tensor(\n",
      "[[1 2 3]\n",
      " [4 4 5]\n",
      " [7 7 8]], shape=(3, 3), dtype=int32)\n",
      "t1 * t2 = tf.Tensor(\n",
      "[[0 0 0]\n",
      " [0 5 6]\n",
      " [0 8 9]], shape=(3, 3), dtype=int32)\n",
      "t1 / t2 = tf.Tensor(\n",
      "[[0.         0.         0.        ]\n",
      " [0.         0.2        0.16666667]\n",
      " [0.         0.125      0.11111111]], shape=(3, 3), dtype=float64)\n"
     ]
    }
   ],
   "source": [
    "t1 = tf.constant([[0, 0, 0], [0, 1, 1], [0, 1, 1]])\n",
    "t2 = tf.constant([[1, 2, 3], [4, 5, 6], [7, 8, 9]])\n",
    "print('t1 + t2 =', t1 + t2)\n",
    "print('t2 - t1 =', t2 - t1)\n",
    "print('t1 * t2 =', t1 * t2)\n",
    "print('t1 / t2 =', t1 / t2)"
   ]
  },
  {
   "cell_type": "markdown",
   "metadata": {
    "colab_type": "text",
    "id": "eiaRcO0CZhXG"
   },
   "source": [
    "**Broadcasting** Broadcasting happens in arithmetic operations encountering tensors with different shapes. Basically, Tensorflow \"broadcasts\" the smaller tensor across the larger matrix so that they become compatible. Think of broadcasting as repeating the values of the smaller tensor without actually needlessly copying them. In fact, Broadcasting provides an easy way to implement algorithms efficiently.\n",
    "\n",
    "\n",
    "<p align=\"center\">\n",
    "<img src=\"https://raw.githubusercontent.com/iust-deep-learning/981/master/tensorflow-2-tutorial/resources/part_01_broadcasting.jpg\" width=\"500\" />\n",
    "\n",
    "<a href=\"https://www.tutorialspoint.com/numpy/numpy_broadcasting.htm\">[source]</a>\n",
    "</p>\n",
    "\n"
   ]
  },
  {
   "cell_type": "code",
   "execution_count": 0,
   "metadata": {
    "colab": {
     "base_uri": "https://localhost:8080/",
     "height": 289
    },
    "colab_type": "code",
    "id": "1Qmd3icsZhXG",
    "outputId": "4c19cbdd-26e8-47b7-d711-8980c4a6a8be"
   },
   "outputs": [
    {
     "name": "stdout",
     "output_type": "stream",
     "text": [
      "t1 + 100 = tf.Tensor([101 102 103 104], shape=(4,), dtype=int32)\n",
      "\n",
      "t1.shape = (2, 3), t2.shape = (1, 3)\n",
      "t1 + t2 = tf.Tensor(\n",
      "[[101 202 303]\n",
      " [104 205 306]], shape=(2, 3), dtype=int32)\n",
      "\n",
      "t1.shape = (2, 3), t2.shape = (2, 1)\n",
      "t1 + t2 = tf.Tensor(\n",
      "[[101 102 103]\n",
      " [204 205 206]], shape=(2, 3), dtype=int32)\n",
      "\n",
      "t1.shape = (1, 3), t2.shape = (2, 1)\n",
      "t1 + t2 = tf.Tensor(\n",
      "[[101 102 103]\n",
      " [201 202 203]], shape=(2, 3), dtype=int32)\n"
     ]
    }
   ],
   "source": [
    "t1 = tf.constant([1, 2, 3, 4])\n",
    "print(\"t1 + 100 =\", t1 + 100)\n",
    "\n",
    "# (m, n) + (1, n)\n",
    "t1 = tf.constant([[1, 2, 3], \n",
    "                  [4, 5, 6]])\n",
    "t2 = tf.constant([[100, 200, 300]])\n",
    "print(f\"\\nt1.shape = {t1.shape}, t2.shape = {t2.shape}\")\n",
    "print(\"t1 + t2 =\", t1 + t2)\n",
    "\n",
    "# (m, n) + (n, 1)\n",
    "t1 = tf.constant([[1, 2, 3], \n",
    "                  [4, 5, 6]])\n",
    "t2 = tf.constant([[100], \n",
    "                  [200]])\n",
    "print(f\"\\nt1.shape = {t1.shape}, t2.shape = {t2.shape}\")\n",
    "print(\"t1 + t2 =\", t1 + t2)\n",
    "\n",
    "# (1, n) + (m, 1)\n",
    "t1 = tf.constant([[1, 2, 3]])\n",
    "t2 = tf.constant([[100], \n",
    "                  [200]])\n",
    "print(f\"\\nt1.shape = {t1.shape}, t2.shape = {t2.shape}\")\n",
    "print(\"t1 + t2 =\", t1 + t2)"
   ]
  },
  {
   "cell_type": "code",
   "execution_count": 0,
   "metadata": {
    "colab": {},
    "colab_type": "code",
    "id": "B6dbCFlUZhXJ"
   },
   "outputs": [],
   "source": [
    "# General Rule\n",
    "\n",
    "# 1.  (m, n) matrix    +, -, *, /    (1, n) matrix   =(get copied)=>   (m, n)\n",
    "# 2.  (m, n) matrix    +, -, *, /    (m, 1) matrix   =(get copied)=>   (m, n)\n",
    "# 2.  (m, n) matrix    +, -, *, /    0D scalar       =(get copied)=>   (m, n)"
   ]
  },
  {
   "cell_type": "markdown",
   "metadata": {
    "colab_type": "text",
    "id": "b5MHRmmuZhXL"
   },
   "source": [
    "**Matrix Multiplication**"
   ]
  },
  {
   "cell_type": "code",
   "execution_count": 0,
   "metadata": {
    "colab": {
     "base_uri": "https://localhost:8080/",
     "height": 68
    },
    "colab_type": "code",
    "id": "jB1B2EuDZhXL",
    "outputId": "46ef2cd7-a4b1-4d32-b436-b8f89055a55b"
   },
   "outputs": [
    {
     "name": "stdout",
     "output_type": "stream",
     "text": [
      "tf.matmul(t1, t2) = tf.Tensor(\n",
      "[[2200 2800]\n",
      " [4900 6400]], shape=(2, 2), dtype=int32)\n"
     ]
    }
   ],
   "source": [
    "t1 = tf.constant([[1, 2, 3], [4, 5, 6]])\n",
    "t2 = tf.constant([[10, 20], \n",
    "                  [30, 40],\n",
    "                  [50, 60]])\n",
    "print(\"tf.matmul(t1, t2) =\", tf.matmul(t1, t2))"
   ]
  },
  {
   "cell_type": "markdown",
   "metadata": {
    "colab_type": "text",
    "id": "kudiYcSWZhXN"
   },
   "source": [
    "**Transposing**"
   ]
  },
  {
   "cell_type": "code",
   "execution_count": 0,
   "metadata": {
    "colab": {
     "base_uri": "https://localhost:8080/",
     "height": 153
    },
    "colab_type": "code",
    "id": "HirWaUbEZhXO",
    "outputId": "24c39655-9ac3-46a5-9552-e18a2aca357c"
   },
   "outputs": [
    {
     "name": "stdout",
     "output_type": "stream",
     "text": [
      "tf.transpose(t1, [1, 0]) = tf.Tensor(\n",
      "[[1 4]\n",
      " [2 5]\n",
      " [3 6]], shape=(3, 2), dtype=int32)\n",
      "\n",
      "t1_t.shape = (2, 13, 5)\n",
      "\n",
      "t1_t.shape = (13, 2, 5)\n"
     ]
    }
   ],
   "source": [
    "# tf.transpose(t, perm) permutes the dimensions according to the `perm` parameter.\n",
    "t1 = tf.constant([[1, 2, 3], [4, 5, 6]]) # (2,3) -> (3, 2)\n",
    "print(\"tf.transpose(t1, [1, 0]) =\", tf.transpose(t1, perm=[1, 0])) \n",
    "\n",
    "# It also works in higher dimensions\n",
    "t1 = tf.ones(shape=(2, 5, 13))\n",
    "t1_t = tf.transpose(t1, perm=[0, 2, 1])\n",
    "print(f\"\\nt1_t.shape = {t1_t.shape}\")\n",
    "\n",
    "# You can permute the order of more than two dimensions at the same time.\n",
    "t1 = tf.ones(shape=(2, 5, 13))\n",
    "t1_t = tf.transpose(t1, perm=[2, 0, 1])\n",
    "print(f\"\\nt1_t.shape = {t1_t.shape}\")"
   ]
  },
  {
   "cell_type": "markdown",
   "metadata": {
    "colab_type": "text",
    "id": "ZdBJMsVWZhXQ"
   },
   "source": [
    "**Reshaping**\n",
    "You can create a new tensor from an existing tensor with different shape but same values. The only rule is that the new tensor's size should be equal to that of the previous one."
   ]
  },
  {
   "cell_type": "code",
   "execution_count": 0,
   "metadata": {
    "colab": {
     "base_uri": "https://localhost:8080/",
     "height": 544
    },
    "colab_type": "code",
    "id": "a4r141MYZhXR",
    "outputId": "a34517b7-8c8d-4674-c7f7-91b42fc56d95"
   },
   "outputs": [
    {
     "name": "stdout",
     "output_type": "stream",
     "text": [
      "t_new = tf.reshape(t, [3, 3]); t_new => \n",
      " [[1 2 3]\n",
      " [4 5 6]\n",
      " [7 8 9]]\n",
      "\n",
      "t_new = tf.reshape(t, [2, 4]); t_new => \n",
      " [[1 1 2 2]\n",
      " [3 3 4 4]]\n",
      "\n",
      "t_new = tf.reshape(t, [-1]); t_new => \n",
      " [1 1 1 2 2 2 3 3 3 4 4 4 5 5 5 6 6 6]\n",
      "\n",
      "t_new = tf.reshape(t, [2, -1]); t_new => \n",
      " [[1 1 1 2 2 2 3 3 3]\n",
      " [4 4 4 5 5 5 6 6 6]]\n",
      "\n",
      "t_new = tf.reshape(t, [-1, 9]); t_new => \n",
      " [[1 1 1 2 2 2 3 3 3]\n",
      " [4 4 4 5 5 5 6 6 6]]\n",
      "\n",
      "t_new = tf.reshape(t, [2, -1, 3]); t_new => \n",
      " [[[1 1 1]\n",
      "  [2 2 2]\n",
      "  [3 3 3]]\n",
      "\n",
      " [[4 4 4]\n",
      "  [5 5 5]\n",
      "  [6 6 6]]]\n",
      "\n",
      "t_new = tf.reshape(t, []); t_new => \n",
      " 5\n"
     ]
    }
   ],
   "source": [
    "# Examples from https://www.tensorflow.org/api_docs/python/tf/reshape\n",
    "\n",
    "t = tf.constant([1, 2, 3, 4, 5, 6, 7, 8, 9]) # [9]\n",
    "print(f\"t_new = tf.reshape(t, [3, 3]); t_new => \\n {tf.reshape(t, [3, 3])}\")\n",
    "\n",
    "t = tf.constant([[[1, 1], [2, 2]],\n",
    "                [[3, 3], [4, 4]]]) # [2, 2, 2]\n",
    "print(f\"\\nt_new = tf.reshape(t, [2, 4]); t_new => \\n {tf.reshape(t, [2, 4])}\")\n",
    "\n",
    "# -1 can also be used to automatically calculate the shape\n",
    "t = tf.constant([[[1, 1, 1],\n",
    "                 [2, 2, 2]],\n",
    "                [[3, 3, 3],\n",
    "                 [4, 4, 4]],\n",
    "                [[5, 5, 5],\n",
    "                 [6, 6, 6]]]) # [3, 2, 3]\n",
    "\n",
    "# -1 => 18\n",
    "print(f\"\\nt_new = tf.reshape(t, [-1]); t_new => \\n {tf.reshape(t, [-1])}\")\n",
    "# -1 => 9\n",
    "print(f\"\\nt_new = tf.reshape(t, [2, -1]); t_new => \\n {tf.reshape(t, [2, -1])}\")\n",
    "# -1 => 2\n",
    "print(f\"\\nt_new = tf.reshape(t, [-1, 9]); t_new => \\n {tf.reshape(t, [-1, 9])}\")\n",
    "# -1 => 3\n",
    "print(f\"\\nt_new = tf.reshape(t, [2, -1, 3]); t_new => \\n {tf.reshape(t, [2, -1, 3])}\")\n",
    "\n",
    "# Convert to a scalar using shape `[]`\n",
    "t = tf.constant([5])\n",
    "print(f\"\\nt_new = tf.reshape(t, []); t_new => \\n {tf.reshape(t, [])}\")"
   ]
  },
  {
   "cell_type": "markdown",
   "metadata": {
    "colab_type": "text",
    "id": "a0QXxYoYZhXT"
   },
   "source": [
    "**Advanced Reshaping**"
   ]
  },
  {
   "cell_type": "code",
   "execution_count": 0,
   "metadata": {
    "colab": {
     "base_uri": "https://localhost:8080/",
     "height": 306
    },
    "colab_type": "code",
    "id": "DCGtzOuVZhXU",
    "outputId": "bac886a2-1756-49c8-8ac0-c5226b91a732"
   },
   "outputs": [
    {
     "name": "stdout",
     "output_type": "stream",
     "text": [
      "tf.tile(t, [2]) = \n",
      "[1 2 3 4 1 2 3 4]\n",
      "\n",
      "tf.tile(t, [3, 1]) = \n",
      "[[1 2 3 4]\n",
      " [1 2 3 4]\n",
      " [1 2 3 4]]\n",
      "\n",
      "tf.shape(tf.expand_dims(t1, 0)) = [1 2]\n",
      "tf.shape(tf.expand_dims(t1, 1)) = [2 1]\n",
      "tf.shape(tf.expand_dims(t1, -1)) = [2 1]\n",
      "\n",
      "tf.shape(tf.expand_dims(t2, 0)) = [1 2 3 5]\n",
      "tf.shape(tf.expand_dims(t2, 2)) = [2 3 1 5]\n",
      "tf.shape(tf.expand_dims(t2, 3)) = [2 3 5 1]\n",
      "\n",
      "tf.shape(tf.squeeze(t3)) = [2 3]\n"
     ]
    }
   ],
   "source": [
    "# tf.tile(t, multiples) creates a new tensor by replicating `t` `multiples` times.\n",
    "t = tf.constant([1, 2, 3, 4]) # [4]\n",
    "print(f\"tf.tile(t, [2]) = \\n{tf.tile(t, [2])}\") # [8]\n",
    "\n",
    "t = tf.constant([[1, 2, 3, 4]]) # [1, 4]\n",
    "print(f\"\\ntf.tile(t, [3, 1]) = \\n{tf.tile(t, [3, 1])}\") # [3, 4]\n",
    "\n",
    "# tf.expand(t, axis) adds a new dimension to the tensor's shape (tensor's values does not change)\n",
    "# Examples from https://www.tensorflow.org/api_docs/python/tf/expand_dims\n",
    "\n",
    "t1 = tf.constant([1, 2,]) # [2]\n",
    "print(f\"\\ntf.shape(tf.expand_dims(t1, 0)) = {tf.shape(tf.expand_dims(t1, 0))}\")\n",
    "print(f\"tf.shape(tf.expand_dims(t1, 1)) = {tf.shape(tf.expand_dims(t1, 1))}\")\n",
    "print(f\"tf.shape(tf.expand_dims(t1, -1)) = {tf.shape(tf.expand_dims(t1, -1))}\")\n",
    "\n",
    "# 't2' is a tensor of shape [2, 3, 5]\n",
    "t2 = tf.ones(shape=[2, 3, 5])\n",
    "print(f\"\\ntf.shape(tf.expand_dims(t2, 0)) = {tf.shape(tf.expand_dims(t2, 0))}\")\n",
    "print(f\"tf.shape(tf.expand_dims(t2, 2)) = {tf.shape(tf.expand_dims(t2, 2))}\")\n",
    "print(f\"tf.shape(tf.expand_dims(t2, 3)) = {tf.shape(tf.expand_dims(t2, 3))}\")\n",
    "\n",
    "# tf.squeeze(a) exactly do the reverse operation: Removes all dimensions of size 1\n",
    "t3 = tf.ones(shape=[1, 2, 1, 3, 1, 1])\n",
    "print(f\"\\ntf.shape(tf.squeeze(t3)) = {tf.shape(tf.squeeze(t3))}\")"
   ]
  },
  {
   "cell_type": "markdown",
   "metadata": {
    "colab_type": "text",
    "id": "OUwR4TKGZhXW"
   },
   "source": [
    "**Combining Tensors**"
   ]
  },
  {
   "cell_type": "code",
   "execution_count": 0,
   "metadata": {
    "colab": {
     "base_uri": "https://localhost:8080/",
     "height": 204
    },
    "colab_type": "code",
    "id": "ICHNv2YrZhXW",
    "outputId": "0a76156a-4f0b-4a87-9d2b-af5cb0cec750"
   },
   "outputs": [
    {
     "name": "stdout",
     "output_type": "stream",
     "text": [
      "tf.concat([t1, t2, t3], axis=1) = \n",
      "[[1 1 1]\n",
      " [1 1 1]\n",
      " [2 2 2]\n",
      " [2 2 2]\n",
      " [3 3 3]\n",
      " [3 3 3]]\n",
      "\n",
      "tf.concat([t1, t2, t3], axis=1) = \n",
      "[[1 1 1 2 2 2 3 3 3]\n",
      " [1 1 1 2 2 2 3 3 3]]\n"
     ]
    }
   ],
   "source": [
    "t1 = tf.constant([[1, 1, 1], [1, 1, 1]]) # [2, 3]\n",
    "t2 = tf.constant([[2, 2, 2], [2, 2, 2]]) # [2, 3]\n",
    "t3 = tf.constant([[3, 3, 3], [3, 3, 3]]) # [2, 3]\n",
    "\n",
    "print(f\"tf.concat([t1, t2, t3], axis=0) = \\n{tf.concat([t1, t2, t3], axis=0)}\") # [6, 3]\n",
    "print(f\"\\ntf.concat([t1, t2, t3], axis=1) = \\n{tf.concat([t1, t2, t3], axis=1)}\") # [2, 9]"
   ]
  },
  {
   "cell_type": "code",
   "execution_count": 0,
   "metadata": {
    "colab": {
     "base_uri": "https://localhost:8080/",
     "height": 187
    },
    "colab_type": "code",
    "id": "U8a_w9WVZhXa",
    "outputId": "8d9d3afc-e020-4304-ed7d-ad882221d143"
   },
   "outputs": [
    {
     "name": "stdout",
     "output_type": "stream",
     "text": [
      "tf.stack([t1, t2, t3], axis=1) = \n",
      "[[1 1 1 1]\n",
      " [2 2 2 2]\n",
      " [3 3 3 3]]\n",
      "\n",
      "tf.stack([t1, t2, t3], axis=1) = \n",
      "[[1 2 3]\n",
      " [1 2 3]\n",
      " [1 2 3]\n",
      " [1 2 3]]\n"
     ]
    }
   ],
   "source": [
    "t1 = tf.constant([1, 1, 1, 1])\n",
    "t2 = tf.constant([2, 2, 2, 2])\n",
    "t3 = tf.constant([3, 3, 3, 3])\n",
    "\n",
    "print(f\"tf.stack([t1, t2, t3], axis=0) = \\n{tf.stack([t1, t2, t3], axis=0)}\")\n",
    "print(f\"\\ntf.stack([t1, t2, t3], axis=1) = \\n{tf.stack([t1, t2, t3], axis=1)}\")"
   ]
  },
  {
   "cell_type": "markdown",
   "metadata": {
    "colab_type": "text",
    "id": "AS9RM7PpZhXc"
   },
   "source": [
    "**Slicing and Indexing** "
   ]
  },
  {
   "cell_type": "code",
   "execution_count": 0,
   "metadata": {
    "colab": {
     "base_uri": "https://localhost:8080/",
     "height": 272
    },
    "colab_type": "code",
    "id": "E9kVyrNYZhXd",
    "outputId": "d5fd4731-f82b-4b9e-8da5-262141487380"
   },
   "outputs": [
    {
     "name": "stdout",
     "output_type": "stream",
     "text": [
      "t1 = tf.Tensor(\n",
      "[[[0 5 5 2]\n",
      "  [0 6 9 0]\n",
      "  [1 8 5 5]]\n",
      "\n",
      " [[0 7 8 7]\n",
      "  [9 2 8 1]\n",
      "  [9 9 0 3]]], shape=(2, 3, 4), dtype=int32)\n",
      "\n",
      "t2 = tf.Tensor(\n",
      "[[4 2 6 5 8 5]\n",
      " [4 2 1 7 6 7]\n",
      " [6 8 6 1 5 1]\n",
      " [9 4 6 0 0 9]\n",
      " [5 9 0 2 7 8]], shape=(5, 6), dtype=int32)\n"
     ]
    }
   ],
   "source": [
    "t = tf.random.uniform(shape=[4, 5, 6, 7], maxval=10, dtype=tf.int32)\n",
    "\n",
    "# same as Python lists and Numpy arrays\n",
    "t1 = t[1:3, 0, 3:, -2:-6:-1]\n",
    "print(\"t1 =\", t1)\n",
    "\n",
    "# same t[0, 0, :, :]\n",
    "t2 = t[0, :, :, 0]\n",
    "print(\"\\nt2 =\", t2)"
   ]
  },
  {
   "cell_type": "markdown",
   "metadata": {
    "colab_type": "text",
    "id": "RRCxsNX8ZhXg"
   },
   "source": [
    "**Reducing**"
   ]
  },
  {
   "cell_type": "code",
   "execution_count": 0,
   "metadata": {
    "colab": {
     "base_uri": "https://localhost:8080/",
     "height": 204
    },
    "colab_type": "code",
    "id": "vbw70C_XZhXg",
    "outputId": "6c059df8-edba-48e4-f358-817bc3a9d7bd"
   },
   "outputs": [
    {
     "name": "stdout",
     "output_type": "stream",
     "text": [
      "tf.reduce_sum(t) = tf.Tensor(20, shape=(), dtype=int32)\n",
      "tf.reduce_sum(t, axis=0) = tf.Tensor([2 4 6 8], shape=(4,), dtype=int32)\n",
      "tf.reduce_sum(t, axis=1) = tf.Tensor([10 10], shape=(2,), dtype=int32)\n",
      "\n",
      "t1 = tf.Tensor(\n",
      "[[7 3 3 0]\n",
      " [8 2 5 1]\n",
      " [9 7 9 9]], shape=(3, 4), dtype=int32)\n",
      "tf.reduce_min(t1) = tf.Tensor(0, shape=(), dtype=int32)\n",
      "tf.reduce_max(t1) = tf.Tensor(9, shape=(), dtype=int32)\n",
      "tf.reduce_mean(t1) = tf.Tensor(5, shape=(), dtype=int32)\n"
     ]
    }
   ],
   "source": [
    "t = tf.constant([[1, 2, 3, 4], \n",
    "                 [1, 2, 3, 4]])\n",
    "\n",
    "# calculate the sum of all elements\n",
    "print(\"tf.reduce_sum(t) =\", tf.math.reduce_sum(t))\n",
    "\n",
    "# calculate the sum of all elements vertically \n",
    "print(\"tf.reduce_sum(t, axis=0) =\", tf.math.reduce_sum(t, axis=0))\n",
    "\n",
    "# calculate the sum of all elements horizontally\n",
    "print(\"tf.reduce_sum(t, axis=1) =\", tf.math.reduce_sum(t, axis=1))\n",
    "\n",
    "t1 = tf.random.uniform(shape=[3, 4], maxval=10, dtype=tf.int32)\n",
    "print(\"\\nt1 =\",t1)\n",
    "print(\"tf.reduce_min(t1) =\", tf.math.reduce_min(t1))\n",
    "print(\"tf.reduce_max(t1) =\", tf.math.reduce_max(t1))\n",
    "print(\"tf.reduce_mean(t1) =\", tf.math.reduce_mean(t1))"
   ]
  },
  {
   "cell_type": "markdown",
   "metadata": {
    "colab_type": "text",
    "id": "tzJ99c_QhPI2"
   },
   "source": [
    "### Exercise #1: Prime numbers diff\n",
    "We have a very special vector, where the `i`th element is equal to the absolute difference of `i`th prime number squared and `i+1`th prime number squared. For example,  the 1st element in this vector is $|2^2 - 3^2| = 5$. Create this vector using TensorFlow operations.\n"
   ]
  },
  {
   "cell_type": "code",
   "execution_count": 0,
   "metadata": {
    "colab": {},
    "colab_type": "code",
    "id": "y8REnvFnnMuk"
   },
   "outputs": [],
   "source": [
    "prime_numbers = tf.constant([2, 3, 5, 7, 11, 13, 17, 19, 23])\n",
    "\n",
    "# Put your answer here, complete the definition of Tensor `diff`\n",
    "# You may want to use tf.square and tf.abs\n",
    "diffs = tf.zeros_like(prime_numbers)\n",
    "\n",
    "assert tf.math.reduce_all(diffs == tf.constant([5,  16,  24,  72,  48, 120,  72, 168, 312])).numpy()\n",
    "print(\"Passed!\")"
   ]
  },
  {
   "cell_type": "markdown",
   "metadata": {
    "colab_type": "text",
    "id": "gP7x62kYoxcg"
   },
   "source": [
    "Solution:\n",
    "\n"
   ]
  },
  {
   "cell_type": "code",
   "execution_count": 0,
   "metadata": {
    "cellView": "both",
    "colab": {},
    "colab_type": "code",
    "id": "NKl9MwSCowag"
   },
   "outputs": [],
   "source": [
    "prime_numbers = tf.constant([2, 3, 5, 7, 11, 13, 17, 19, 23])\n",
    "\n",
    "shifted_prime_numbers = tf.concat([prime_numbers[1:], [29]], axis=0)\n",
    "\n",
    "# Put your answer here, complete the definition of Tensor `diff`\n",
    "diffs = tf.abs(tf.square(prime_numbers) - tf.square(shifted_prime_numbers))\n",
    "\n",
    "assert tf.math.reduce_all(diffs == tf.constant([5,  16,  24,  72,  48, 120,  72, 168, 312])).numpy()\n",
    "print(\"Passed\")"
   ]
  },
  {
   "cell_type": "markdown",
   "metadata": {
    "colab_type": "text",
    "id": "0mw5Gp8Lp9gG"
   },
   "source": [
    "### Exercise #2: Simulate 10 throwings of one die and one coin.\n",
    "Perform this simulation, and store its result in a `[10, 3]` shaped int32 tensor. Each row belongs to one simulation (that is, one roll of a six-sided die and one flip of a coin). The definition of each column is as follows:\n",
    "*   Column 1: the result of throwing the coin.\n",
    "*   Column 2: the result of throwing the die.\n",
    "*   Column 3: if we have head and the roll's result is bigger than 3, then it should be `1`, otherwise it should be `0`)\n",
    "\n",
    "For example, one of the rows might be something like  `[1, 4, 1]`"
   ]
  },
  {
   "cell_type": "code",
   "execution_count": 0,
   "metadata": {
    "colab": {},
    "colab_type": "code",
    "id": "6ERImAmIs_Zj"
   },
   "outputs": [],
   "source": [
    "# Write your answer here. \n",
    "# Complete the implementation of `simulation_result` tensor\n",
    "# You may need to use tf.math.greater and tf.math.equal \n",
    "\n",
    "simulation_result = tf.zeros(shape=(10, 3), dtype=tf.int32)\n",
    "simulation_result"
   ]
  },
  {
   "cell_type": "markdown",
   "metadata": {
    "colab_type": "text",
    "id": "7CCdZwPIwH3J"
   },
   "source": [
    "Solution"
   ]
  },
  {
   "cell_type": "code",
   "execution_count": 0,
   "metadata": {
    "cellView": "both",
    "colab": {
     "base_uri": "https://localhost:8080/",
     "height": 204
    },
    "colab_type": "code",
    "id": "on8-saPvwKxG",
    "outputId": "9e0da1ad-23c0-4715-d173-7109c6bb6352"
   },
   "outputs": [
    {
     "data": {
      "text/plain": [
       "<tf.Tensor: shape=(10, 3), dtype=int32, numpy=\n",
       "array([[0, 1, 0],\n",
       "       [0, 5, 0],\n",
       "       [0, 4, 0],\n",
       "       [1, 5, 1],\n",
       "       [1, 5, 1],\n",
       "       [1, 2, 0],\n",
       "       [1, 2, 0],\n",
       "       [1, 4, 1],\n",
       "       [1, 3, 0],\n",
       "       [0, 4, 0]], dtype=int32)>"
      ]
     },
     "execution_count": 3,
     "metadata": {
      "tags": []
     },
     "output_type": "execute_result"
    }
   ],
   "source": [
    "coin_flip = tf.random.uniform([10, 1], maxval=2, dtype=tf.int32)\n",
    "die_roll = tf.random.uniform([10, 1], minval=1, maxval=7, dtype=tf.int32)\n",
    "\n",
    "die_is_bigger_than = tf.cast(tf.math.greater(die_roll, 3), tf.int32)\n",
    "success = tf.cast(tf.math.equal(die_is_bigger_than + coin_flip, 2), tf.int32)\n",
    "\n",
    "simulation_result = tf.concat([coin_flip, die_roll, success], axis=1)\n",
    "simulation_result"
   ]
  },
  {
   "cell_type": "markdown",
   "metadata": {
    "colab_type": "text",
    "id": "-ubj0ByCwVqs"
   },
   "source": [
    "### Exercise #3: Normalized Euclidean Distance \n",
    "\n",
    "Suppose that we have two sets of d-dimensional vectors. Our goal is to calculate the normalized euclidean distance between each vector of these two sets. That is, given $S_1 \\in R^{m \\times d}$ and $S_1 \\in R^{n \\times d}$, we want to calculate the $X \\in R^{m \\times n}$. Euclidean distance between two vector V and W is calculated as follows:\n",
    "\n",
    "$$\n",
    "dist = \\sqrt{(V_1 - W_1)^2 + ... +\\:(W_d - W_d)^2}\n",
    "$$\n",
    "\n",
    "Please note that we want to calculate the normalized distance, which is within the [0, 1] range. Therefore, you should normalize the similarity scores across each row."
   ]
  },
  {
   "cell_type": "code",
   "execution_count": 0,
   "metadata": {
    "colab": {},
    "colab_type": "code",
    "id": "NhJU8za529IS"
   },
   "outputs": [],
   "source": [
    "def euclidean_norm_distance(v, w):\n",
    "  # Write your answer here. \n",
    "  raise NotImplemented()"
   ]
  },
  {
   "cell_type": "code",
   "execution_count": 0,
   "metadata": {
    "colab": {
     "base_uri": "https://localhost:8080/",
     "height": 34
    },
    "colab_type": "code",
    "id": "v4Vr57j_3ez2",
    "outputId": "9cf3464b-2e8b-4ea5-e9ea-280004e153ec"
   },
   "outputs": [
    {
     "name": "stdout",
     "output_type": "stream",
     "text": [
      "Passed!\n"
     ]
    }
   ],
   "source": [
    "t1 = tf.constant([[-1.8897635 ,  0.7396171 ,  0.4683413 ,  2.35642   , -0.8153529 ],\n",
    "       [ 1.3100415 ,  0.6090922 ,  0.70573515,  0.07053893, -0.20450763],\n",
    "       [-0.14293706, -0.94566655,  0.41517866,  0.9539284 , -0.9522885 ]])\n",
    "t2 = tf.constant([[ 0.4980808 ,  0.12677321, -1.6533084 ,  1.2168828 ,  0.351612  ],\n",
    "       [-0.35999015, -1.013327  , -1.4144444 ,  0.83520454,  1.4889846 ]])\n",
    "\n",
    "answer = tf.constant([[0.4718873, 0.5281127 ],\n",
    " [0.43739235, 0.5626077 ],\n",
    " [0.47395885, 0.52604115]])\n",
    "\n",
    "assert np.allclose(euclidean_norm_distance(t1, t2).numpy(), answer)\n",
    "print(\"Passed!\")"
   ]
  },
  {
   "cell_type": "markdown",
   "metadata": {
    "colab_type": "text",
    "id": "rsw_pmTz_I-k"
   },
   "source": [
    "Solution"
   ]
  },
  {
   "cell_type": "code",
   "execution_count": 0,
   "metadata": {
    "cellView": "both",
    "colab": {},
    "colab_type": "code",
    "id": "PwkkmFI1_KnS"
   },
   "outputs": [],
   "source": [
    "def euclidean_norm_distance(v, w):\n",
    "  # v = (3, 5)\n",
    "  # w = (2, 5)\n",
    "  n = tf.shape(v)[0] # 3\n",
    "  m = tf.shape(w)[0] # 2\n",
    "\n",
    "  v = tf.tile(tf.expand_dims(v, 1), [1, m, 1]) # (n, m, d)\n",
    "  w = tf.tile(tf.expand_dims(w, 1), [1, n, 1]) # (m, n, d)\n",
    "  w = tf.transpose(w, [1, 0, 2]) # (n, m, d)\n",
    "\n",
    "  distances = (v - w) # (n, m, d)\n",
    "  distances = distances ** 2 # (n, m, d)\n",
    "  distances = tf.math.reduce_sum(distances, axis=2) # (n, m)\n",
    "  distances = tf.math.sqrt(distances) # (n, m)\n",
    "\n",
    "  sum_distances = tf.reshape(tf.math.reduce_sum(distances, axis=1), [-1, 1]) # (n, 1)\n",
    "  distances = distances / sum_distances # (n, m)\n",
    "\n",
    "  return distances"
   ]
  },
  {
   "cell_type": "markdown",
   "metadata": {
    "colab_type": "text",
    "id": "GvSWlaVGZhXx"
   },
   "source": [
    "## 3. Auto Differentiation\n",
    "\n",
    "---\n",
    "As we mentioned earlier, TensorFlow represents each computation as a graph, which makes it much easier to run the back-prop algorithm. Furthermore, TensorFlow provides an automatic differentiation to compute the gradients by itself. Here is how to use the AutoDiff framework:\n"
   ]
  },
  {
   "cell_type": "code",
   "execution_count": 0,
   "metadata": {
    "colab": {
     "base_uri": "https://localhost:8080/",
     "height": 34
    },
    "colab_type": "code",
    "id": "94T-v0T1FOw7",
    "outputId": "4dc48bd1-148b-4f81-c399-12880c154b7f"
   },
   "outputs": [
    {
     "data": {
      "text/plain": [
       "<tf.Tensor: shape=(), dtype=float32, numpy=6.0>"
      ]
     },
     "execution_count": 204,
     "metadata": {
      "tags": []
     },
     "output_type": "execute_result"
    }
   ],
   "source": [
    "x = tf.constant(3.0)\n",
    "with tf.GradientTape() as g:\n",
    "  g.watch(x)\n",
    "  y = x * x\n",
    "\n",
    "dy_dx = g.gradient(y, x)\n",
    "dy_dx"
   ]
  },
  {
   "cell_type": "markdown",
   "metadata": {
    "colab_type": "text",
    "id": "x3k-wZhtK3mf"
   },
   "source": [
    "Now let's look at a very simple example: A linear regression problem. In linear regression, we aspire to find the best line that fits our data. Here, the dataset is quite simple; each training sample consists of one scalar input and one scalar output `(x, y)`:"
   ]
  },
  {
   "cell_type": "code",
   "execution_count": 0,
   "metadata": {
    "colab": {
     "base_uri": "https://localhost:8080/",
     "height": 282
    },
    "colab_type": "code",
    "id": "-VCP6JxEK3N6",
    "outputId": "5f69dc62-fb3d-446a-f77a-5d95713d24dc"
   },
   "outputs": [
    {
     "data": {
      "text/plain": [
       "[<matplotlib.lines.Line2D at 0x7ff2fd60d208>]"
      ]
     },
     "execution_count": 11,
     "metadata": {
      "tags": []
     },
     "output_type": "execute_result"
    },
    {
     "data": {
      "image/png": "[encoded data removed]",
      "text/plain": [
       "<Figure size 432x288 with 1 Axes>"
      ]
     },
     "metadata": {
      "tags": []
     },
     "output_type": "display_data"
    }
   ],
   "source": [
    "def make_dataset():\n",
    "  x = tf.random.uniform(shape=(200,))\n",
    "  noise = tf.random.normal(shape=(x.shape[0],), stddev=0.015)\n",
    "  y = 0.1 * x + 0.3 + noise\n",
    "  return x, y\n",
    "\n",
    "x_train, y_train = make_dataset()\n",
    "\n",
    "import matplotlib.pyplot as plt\n",
    "plt.plot(x_train, y_train, 'b.')"
   ]
  },
  {
   "cell_type": "markdown",
   "metadata": {
    "colab_type": "text",
    "id": "f1Q_aMW3NBlK"
   },
   "source": [
    "Since our model is just a single line, we need two variables for it: one for the slope and one for the interceptor. "
   ]
  },
  {
   "cell_type": "code",
   "execution_count": 0,
   "metadata": {
    "colab": {},
    "colab_type": "code",
    "id": "zQUp22AnMnDk"
   },
   "outputs": [],
   "source": [
    "m = tf.Variable(0.)\n",
    "b = tf.Variable(0.)"
   ]
  },
  {
   "cell_type": "markdown",
   "metadata": {
    "colab_type": "text",
    "id": "iB0JOnnONI7Q"
   },
   "source": [
    "Define the model:"
   ]
  },
  {
   "cell_type": "code",
   "execution_count": 0,
   "metadata": {
    "colab": {},
    "colab_type": "code",
    "id": "fKfHyuZTNLFD"
   },
   "outputs": [],
   "source": [
    "def model(x):\n",
    "  y = m * x + b\n",
    "  return y"
   ]
  },
  {
   "cell_type": "markdown",
   "metadata": {
    "colab_type": "text",
    "id": "7tDWlyJmNYz-"
   },
   "source": [
    "We will define the cost function as a squared difference between the real and predicted output "
   ]
  },
  {
   "cell_type": "code",
   "execution_count": 0,
   "metadata": {
    "colab": {
     "base_uri": "https://localhost:8080/",
     "height": 34
    },
    "colab_type": "code",
    "id": "56cQjZzLNwkT",
    "outputId": "c5f77a8f-b695-43e6-c5a2-366c6eea8f29"
   },
   "outputs": [
    {
     "name": "stdout",
     "output_type": "stream",
     "text": [
      "Initial loss 0.12345044\n"
     ]
    }
   ],
   "source": [
    "def loss_fn(y_true, y_pred):\n",
    "  return tf.math.reduce_mean(tf.square(y_true - y_pred))\n",
    "\n",
    "print(\"Initial loss\", loss_fn(y_train, model(x_train)).numpy())"
   ]
  },
  {
   "cell_type": "markdown",
   "metadata": {
    "colab_type": "text",
    "id": "7G0PM_wjOldz"
   },
   "source": [
    "And our training loop:"
   ]
  },
  {
   "cell_type": "code",
   "execution_count": 0,
   "metadata": {
    "colab": {},
    "colab_type": "code",
    "id": "83NhSA6SOpGB"
   },
   "outputs": [],
   "source": [
    "lr = 0.05\n",
    "\n",
    "def train_one_step(x, y):\n",
    "  with tf.GradientTape() as g:\n",
    "    preds = model(x)\n",
    "    loss = loss_fn(y, preds)\n",
    "\n",
    "  g_m, g_b = g.gradient(loss, [m, b])\n",
    "  \n",
    "  m.assign_sub(g_m * lr)\n",
    "  b.assign_sub(g_b * lr)\n",
    "\n",
    "  return loss.numpy()"
   ]
  },
  {
   "cell_type": "code",
   "execution_count": 0,
   "metadata": {
    "colab": {},
    "colab_type": "code",
    "id": "Ao-CgN9YPYgj"
   },
   "outputs": [],
   "source": [
    "steps = 200\n",
    "\n",
    "def train():\n",
    "  # reset variables' value\n",
    "  m.assign(0.)\n",
    "  b.assign(0.)\n",
    "\n",
    "  # train\n",
    "  for i in range(steps):\n",
    "    loss = train_one_step(x_train, y_train)\n",
    "    if i % 20 == 0:\n",
    "      print('Step', i ,'Loss:', loss)\n",
    "\n",
    "def plot():\n",
    "  plt.plot(x_train, y_train, 'b.')\n",
    "  plt.plot(x_train, model(x_train))"
   ]
  },
  {
   "cell_type": "code",
   "execution_count": 0,
   "metadata": {
    "colab": {
     "base_uri": "https://localhost:8080/",
     "height": 435
    },
    "colab_type": "code",
    "id": "sxpcirqWQ4JY",
    "outputId": "652adfad-490b-4af3-fa41-0f8520efe36f"
   },
   "outputs": [
    {
     "name": "stdout",
     "output_type": "stream",
     "text": [
      "Step 0 Loss: 0.12345044\n",
      "Step 20 Loss: 0.00085954135\n",
      "Step 40 Loss: 0.00028783825\n",
      "Step 60 Loss: 0.00027194264\n",
      "Step 80 Loss: 0.000261465\n",
      "Step 100 Loss: 0.00025328167\n",
      "Step 120 Loss: 0.00024688346\n",
      "Step 140 Loss: 0.00024188071\n",
      "Step 160 Loss: 0.00023796929\n",
      "Step 180 Loss: 0.00023491096\n"
     ]
    },
    {
     "data": {
      "image/png": "[encoded data removed]",
      "text/plain": [
       "<Figure size 432x288 with 1 Axes>"
      ]
     },
     "metadata": {
      "tags": []
     },
     "output_type": "display_data"
    }
   ],
   "source": [
    "train()\n",
    "plot()"
   ]
  },
  {
   "cell_type": "markdown",
   "metadata": {
    "colab_type": "text",
    "id": "qMfC68coRWnp"
   },
   "source": [
    "Now lets use a higher-level API to calculate and apply gradients: Optimizers!"
   ]
  },
  {
   "cell_type": "code",
   "execution_count": 0,
   "metadata": {
    "colab": {},
    "colab_type": "code",
    "id": "w9zfMjVEREOh"
   },
   "outputs": [],
   "source": [
    "from tensorflow.keras import optimizers\n",
    "optimizer = optimizers.Adam(learning_rate=lr)\n",
    "\n",
    "def train_one_step(x, y):\n",
    "  with tf.GradientTape() as g:\n",
    "    preds = model(x)\n",
    "    loss = loss_fn(y, preds)\n",
    "\n",
    "  grads = g.gradient(loss, [m, b])\n",
    "  optimizer.apply_gradients(zip(grads, [m, b]))\n",
    "\n",
    "  return loss.numpy()"
   ]
  },
  {
   "cell_type": "code",
   "execution_count": 0,
   "metadata": {
    "colab": {
     "base_uri": "https://localhost:8080/",
     "height": 435
    },
    "colab_type": "code",
    "id": "6bnmJLB7SQ6C",
    "outputId": "28ae5640-413a-47de-843d-96a1ef3ce291"
   },
   "outputs": [
    {
     "name": "stdout",
     "output_type": "stream",
     "text": [
      "Step 0 Loss: 0.12345044\n",
      "Step 20 Loss: 0.0042754835\n",
      "Step 40 Loss: 0.0003351911\n",
      "Step 60 Loss: 0.00028648187\n",
      "Step 80 Loss: 0.00023145866\n",
      "Step 100 Loss: 0.00022398174\n",
      "Step 120 Loss: 0.00022411771\n",
      "Step 140 Loss: 0.00022398097\n",
      "Step 160 Loss: 0.0002239499\n",
      "Step 180 Loss: 0.00022394929\n"
     ]
    },
    {
     "data": {
      "image/png": "[encoded data removed]",
      "text/plain": [
       "<Figure size 432x288 with 1 Axes>"
      ]
     },
     "metadata": {
      "tags": []
     },
     "output_type": "display_data"
    }
   ],
   "source": [
    "train()\n",
    "plot()"
   ]
  },
  {
   "cell_type": "markdown",
   "metadata": {
    "colab_type": "text",
    "id": "9bZ6N-jxiCFr"
   },
   "source": [
    "## Final Assignment: Low-level MNIST CNN-Classifier\n",
    "\n",
    "---\n",
    "\n"
   ]
  },
  {
   "cell_type": "markdown",
   "metadata": {
    "colab_type": "text",
    "id": "SJgFkqhCXKAJ"
   },
   "source": [
    "You probably have implemented a neural network-based classifier many times. However, we want to implement a multi-layer CNN classifier using raw TensorFlow operations and matrix multiplication. No pre-defined CNN blocks are allowed. You cannot use Keras, Keras Sequence API, or its training loop. Instead, you should implement the training loop yourself.\n",
    "\n",
    "Assignment criteria:\n",
    "\n",
    "*   Implement a multi-layer CNN classifer\n",
    "*   Default Keras CNN modules are not permited\n",
    "*   Use `tf.GradientTape` to build your custom training loop\n",
    "\n",
    "*Hint: You may refer to [here](https://medium.com/@_init_/an-illustrated-explanation-of-performing-2d-convolutions-using-matrix-multiplications-1e8de8cd2544) to rewrite 2D Convolutions in terms of matrix multiplications.*"
   ]
  },
  {
   "cell_type": "code",
   "execution_count": 0,
   "metadata": {
    "colab": {},
    "colab_type": "code",
    "id": "RMUnRMekYoUQ"
   },
   "outputs": [],
   "source": [
    "# Put your answer here"
   ]
  },
  {
   "cell_type": "markdown",
   "metadata": {
    "colab_type": "text",
    "id": "tXo0f6BgZhYU"
   },
   "source": [
    "## References\n",
    "\n",
    "\n",
    "---\n",
    "\n"
   ]
  },
  {
   "cell_type": "markdown",
   "metadata": {
    "colab_type": "text",
    "id": "KfUQc2aEYswq"
   },
   "source": [
    "\n",
    "\n",
    "*   Broadcasting in Python https://www.youtube.com/watch?v=tKcLaGdvabM\n",
    "*   https://colab.research.google.com/notebooks/mlcc/creating_and_manipulating_tensors.ipynb#scrollTo=ocwT0iXH-nhT\n",
    "*   https://tensorflow.org\n",
    "*   http://web.stanford.edu/class/cs20si/\n",
    "\n"
   ]
  }
 ],
 "metadata": {
  "accelerator": "GPU",
  "colab": {
   "collapsed_sections": [],
   "include_colab_link": true,
   "name": "part_01_solutions.ipynb",
   "provenance": []
  },
  "kernelspec": {
   "display_name": "Python 3",
   "language": "python",
   "name": "python3"
  },
  "language_info": {
   "codemirror_mode": {
    "name": "ipython",
    "version": 3
   },
   "file_extension": ".py",
   "mimetype": "text/x-python",
   "name": "python",
   "nbconvert_exporter": "python",
   "pygments_lexer": "ipython3",
   "version": "3.7.2"
  }
 },
 "nbformat": 4,
 "nbformat_minor": 1
}
